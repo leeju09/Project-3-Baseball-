{
 "cells": [
  {
   "cell_type": "markdown",
   "id": "de457cea-6df2-48c5-9ea1-7ee2361bfa2c",
   "metadata": {},
   "source": [
    "Import the data provided in the outputs.json file from your Terminal. Name the database Baseball_db and the collection Players.\r\n",
    "\r\n",
    "Within this markdown cell, copy the line of text you used to import the data from your Terminal. This way, future analysts will be able to repeat your process.\r\n",
    "\r\n",
    "e.g.: Import the dataset with mongoimport --type jsd Baseball_dbfoodPlayersents --drop --jsonAroutputents.json"
   ]
  },
  {
   "cell_type": "code",
   "execution_count": 1,
   "id": "e6c7f576-01e4-429c-8005-05e26953b786",
   "metadata": {},
   "outputs": [],
   "source": [
    "# Import dependencies\n",
    "from pymongo import MongoClient\n",
    "from pprint import pprint"
   ]
  },
  {
   "cell_type": "code",
   "execution_count": 2,
   "id": "4f3de511-ff86-4995-9e23-312f2dde0b37",
   "metadata": {},
   "outputs": [],
   "source": [
    "# Create an instance of MongoClient\n",
    "mongo = MongoClient(port=27017)"
   ]
  },
  {
   "cell_type": "code",
   "execution_count": 3,
   "id": "98cce0b1-f2e6-4262-ae68-b9586cc87b52",
   "metadata": {},
   "outputs": [
    {
     "name": "stdout",
     "output_type": "stream",
     "text": [
      "['Baseball_db', 'admin', 'autosaurus', 'classDB', 'config', 'local', 'met', 'petsitly_marketing', 'travel_db', 'uk_food']\n"
     ]
    }
   ],
   "source": [
    "# confirm that our new database was created\n",
    "print(mongo.list_database_names())"
   ]
  },
  {
   "cell_type": "code",
   "execution_count": 4,
   "id": "5b809b16-e142-4e7a-a6a3-a737500b385d",
   "metadata": {},
   "outputs": [],
   "source": [
    "# assign the uk_food database to a variable name\n",
    "db = mongo['Baseball_db']"
   ]
  },
  {
   "cell_type": "code",
   "execution_count": 5,
   "id": "35b16d23-b47b-4e6a-8a21-3a4336f0d991",
   "metadata": {},
   "outputs": [
    {
     "data": {
      "text/plain": [
       "['Players']"
      ]
     },
     "execution_count": 5,
     "metadata": {},
     "output_type": "execute_result"
    }
   ],
   "source": [
    "# review the collections in our new database\n",
    "db.list_collection_names()"
   ]
  },
  {
   "cell_type": "code",
   "execution_count": 6,
   "id": "28d93ef3-de74-4f8e-933c-a8e0428bf953",
   "metadata": {},
   "outputs": [
    {
     "name": "stdout",
     "output_type": "stream",
     "text": [
      "{'2B': 0,\n",
      " '3B': 0,\n",
      " 'AB': 0,\n",
      " 'BB': 0,\n",
      " 'Bats': 'R',\n",
      " 'Birth Country': 'USA',\n",
      " 'Birth State': 'CO',\n",
      " 'Birth Year': '1981',\n",
      " 'Birth Year Category': '1980-1989',\n",
      " 'CS': 0,\n",
      " 'Debut': '2004-04-06',\n",
      " 'Final Game': '2015-08-23',\n",
      " 'G': 11,\n",
      " 'H': 0,\n",
      " 'HR': 0,\n",
      " 'Height': 75,\n",
      " 'Latitude': 39.550051,\n",
      " 'Legal Name': 'David Allan',\n",
      " 'Longitude': -105.782067,\n",
      " 'Name': 'David Aardsma',\n",
      " 'Player ID': 'aardsda01',\n",
      " 'Player Type': 'AllStar',\n",
      " 'R': 0,\n",
      " 'RBI': 0,\n",
      " 'SB': 0,\n",
      " 'SO': 0,\n",
      " 'Status': 'Inactive',\n",
      " 'Throws': 'R',\n",
      " 'Weight': 220,\n",
      " '_id': ObjectId('669a0b3ef2669664869aab0d')}\n"
     ]
    }
   ],
   "source": [
    "# review a document in the establishments collection\n",
    "document = db.Players.find_one()\n",
    "pprint(document)"
   ]
  },
  {
   "cell_type": "code",
   "execution_count": 8,
   "id": "33730239-b417-461b-8205-598e5392a944",
   "metadata": {},
   "outputs": [],
   "source": [
    "# assign the collection to a variable\n",
    "baseballplayers = db['Players']"
   ]
  },
  {
   "cell_type": "code",
   "execution_count": 10,
   "id": "c84f9cd3-c0b8-47d5-99c8-f8c2833cbc2c",
   "metadata": {},
   "outputs": [
    {
     "data": {
      "text/plain": [
       "2024"
      ]
     },
     "execution_count": 10,
     "metadata": {},
     "output_type": "execute_result"
    }
   ],
   "source": [
    "# Find how many documents have LocalAuthorityName as \"Dover\"\n",
    "baseballplayers.count_documents({\"Player Type\": \"AllStar\"})"
   ]
  },
  {
   "cell_type": "code",
   "execution_count": 11,
   "id": "53709bff-fe28-4073-9231-0153faa0611f",
   "metadata": {},
   "outputs": [
    {
     "data": {
      "text/plain": [
       "87"
      ]
     },
     "execution_count": 11,
     "metadata": {},
     "output_type": "execute_result"
    }
   ],
   "source": [
    "# Find how many documents have LocalAuthorityName as \"Dover\"\n",
    "baseballplayers.count_documents({\"Player Type\": \"HallofFame\"})"
   ]
  },
  {
   "cell_type": "code",
   "execution_count": null,
   "id": "57246681-e7dc-43c0-8699-e6b0b9f5d15d",
   "metadata": {},
   "outputs": [],
   "source": []
  }
 ],
 "metadata": {
  "kernelspec": {
   "display_name": "Python 3 (ipykernel)",
   "language": "python",
   "name": "python3"
  },
  "language_info": {
   "codemirror_mode": {
    "name": "ipython",
    "version": 3
   },
   "file_extension": ".py",
   "mimetype": "text/x-python",
   "name": "python",
   "nbconvert_exporter": "python",
   "pygments_lexer": "ipython3",
   "version": "3.11.7"
  }
 },
 "nbformat": 4,
 "nbformat_minor": 5
}
